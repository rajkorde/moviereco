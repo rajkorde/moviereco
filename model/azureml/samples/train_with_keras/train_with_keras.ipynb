{
 "cells": [
  {
   "cell_type": "code",
   "execution_count": 3,
   "metadata": {},
   "outputs": [],
   "source": [
    "%matplotlib inline\n",
    "import numpy as np\n",
    "import os\n",
    "import matplotlib.pyplot as plt\n",
    "\n",
    "from azureml.core import Experiment"
   ]
  },
  {
   "cell_type": "code",
   "execution_count": 4,
   "metadata": {},
   "outputs": [
    {
     "name": "stdout",
     "output_type": "stream",
     "text": [
      "Azure ML SDK Version:  1.0.39\n"
     ]
    }
   ],
   "source": [
    "import azureml\n",
    "from azureml.core import Workspace\n",
    "\n",
    "# check core SDK version number\n",
    "print(\"Azure ML SDK Version: \", azureml.core.VERSION)"
   ]
  },
  {
   "cell_type": "code",
   "execution_count": 5,
   "metadata": {},
   "outputs": [
    {
     "name": "stderr",
     "output_type": "stream",
     "text": [
      "Warning: Falling back to use azure cli login credentials.\n",
      "If you run your code in unattended mode, i.e., where you can't give a user input, then we recommend to use ServicePrincipalAuthentication or MsiAuthentication.\n",
      "Please refer to aka.ms/aml-notebook-auth for different authentication mechanisms in azureml-sdk.\n"
     ]
    }
   ],
   "source": [
    "ws = Workspace.from_config()\n",
    "script_folder = '.'\n",
    "exp = Experiment(workspace=ws, name='keras-mnist')"
   ]
  },
  {
   "cell_type": "code",
   "execution_count": 6,
   "metadata": {},
   "outputs": [
    {
     "data": {
      "text/plain": [
       "('./data/mnist/test-labels.gz', <http.client.HTTPMessage at 0x220a7fcb128>)"
      ]
     },
     "execution_count": 6,
     "metadata": {},
     "output_type": "execute_result"
    }
   ],
   "source": [
    "import urllib\n",
    "\n",
    "os.makedirs('./data/mnist', exist_ok=True)\n",
    "\n",
    "urllib.request.urlretrieve('http://yann.lecun.com/exdb/mnist/train-images-idx3-ubyte.gz', filename='./data/mnist/train-images.gz')\n",
    "urllib.request.urlretrieve('http://yann.lecun.com/exdb/mnist/train-labels-idx1-ubyte.gz', filename='./data/mnist/train-labels.gz')\n",
    "urllib.request.urlretrieve('http://yann.lecun.com/exdb/mnist/t10k-images-idx3-ubyte.gz', filename='./data/mnist/test-images.gz')\n",
    "urllib.request.urlretrieve('http://yann.lecun.com/exdb/mnist/t10k-labels-idx1-ubyte.gz', filename='./data/mnist/test-labels.gz')"
   ]
  },
  {
   "cell_type": "code",
   "execution_count": 8,
   "metadata": {},
   "outputs": [
    {
     "data": {
      "image/png": "[encoded data removed]",
      "text/plain": [
       "<Figure size 1152x432 with 30 Axes>"
      ]
     },
     "metadata": {
      "needs_background": "light"
     },
     "output_type": "display_data"
    }
   ],
   "source": [
    "from utils import load_data, one_hot_encode\n",
    "\n",
    "# note we also shrink the intensity values (X) from 0-255 to 0-1. This helps the neural network converge faster.\n",
    "X_train = load_data('./data/mnist/train-images.gz', False) / 255.0\n",
    "y_train = load_data('./data/mnist/train-labels.gz', True).reshape(-1)\n",
    "\n",
    "X_test = load_data('./data/mnist/test-images.gz', False) / 255.0\n",
    "y_test = load_data('./data/mnist/test-labels.gz', True).reshape(-1)\n",
    "\n",
    "count = 0\n",
    "sample_size = 30\n",
    "plt.figure(figsize = (16, 6))\n",
    "for i in np.random.permutation(X_train.shape[0])[:sample_size]:\n",
    "    count = count + 1\n",
    "    plt.subplot(1, sample_size, count)\n",
    "    plt.axhline('')\n",
    "    plt.axvline('')\n",
    "    plt.text(x = 10, y = -10, s = y_train[i], fontsize = 18)\n",
    "    plt.imshow(X_train[i].reshape(28, 28), cmap = plt.cm.Greys)\n",
    "plt.show()"
   ]
  },
  {
   "cell_type": "code",
   "execution_count": 9,
   "metadata": {},
   "outputs": [],
   "source": [
    "ds = ws.get_default_datastore()"
   ]
  },
  {
   "cell_type": "code",
   "execution_count": 12,
   "metadata": {},
   "outputs": [
    {
     "name": "stdout",
     "output_type": "stream",
     "text": [
      "Uploading ./data/mnist\\test-images.gz\n",
      "Uploading ./data/mnist\\test-labels.gz\n",
      "Uploading ./data/mnist\\train-images.gz\n",
      "Uploading ./data/mnist\\train-labels.gz\n",
      "Uploaded ./data/mnist\\test-labels.gz, 1 files out of an estimated total of 4\n",
      "Uploaded ./data/mnist\\train-labels.gz, 2 files out of an estimated total of 4\n",
      "Uploaded ./data/mnist\\test-images.gz, 3 files out of an estimated total of 4\n",
      "Uploaded ./data/mnist\\train-images.gz, 4 files out of an estimated total of 4\n"
     ]
    },
    {
     "data": {
      "text/plain": [
       "$AZUREML_DATAREFERENCE_33c5458aedce49b5968470bded6d1783"
      ]
     },
     "execution_count": 12,
     "metadata": {},
     "output_type": "execute_result"
    }
   ],
   "source": [
    "ds.upload(src_dir='./data/mnist', target_path='mnist', overwrite=True, show_progress=True)"
   ]
  },
  {
   "cell_type": "code",
   "execution_count": 13,
   "metadata": {},
   "outputs": [
    {
     "name": "stdout",
     "output_type": "stream",
     "text": [
      "{'currentNodeCount': 2, 'targetNodeCount': 2, 'nodeStateCounts': {'preparingNodeCount': 0, 'runningNodeCount': 0, 'idleNodeCount': 2, 'unusableNodeCount': 0, 'leavingNodeCount': 0, 'preemptedNodeCount': 0}, 'allocationState': 'Steady', 'allocationStateTransitionTime': '2019-05-21T00:56:52.203000+00:00', 'errors': None, 'creationTime': '2019-05-20T21:19:08.973390+00:00', 'modifiedTime': '2019-05-20T21:20:48.008942+00:00', 'provisioningState': 'Succeeded', 'provisioningStateTransitionTime': None, 'scaleSettings': {'minNodeCount': 0, 'maxNodeCount': 4, 'nodeIdleTimeBeforeScaleDown': 'PT600S'}, 'vmPriority': 'LowPriority', 'vmSize': 'STANDARD_D2_V2'}\n"
     ]
    }
   ],
   "source": [
    "compute_target = ws.compute_targets['prodmod-compute1']\n",
    "print(compute_target.get_status().serialize())"
   ]
  },
  {
   "cell_type": "code",
   "execution_count": 16,
   "metadata": {},
   "outputs": [
    {
     "name": "stderr",
     "output_type": "stream",
     "text": [
      "framework_version is not specified, defaulting to version 1.13.\n"
     ]
    }
   ],
   "source": [
    "from azureml.train.dnn import TensorFlow\n",
    "\n",
    "script_params = {\n",
    "    '--data-folder': ds.path('mnist').as_mount(),\n",
    "    '--batch-size': 50,\n",
    "    '--first-layer-neurons': 300,\n",
    "    '--second-layer-neurons': 100,\n",
    "    '--learning-rate': 0.001\n",
    "}\n",
    "\n",
    "est = TensorFlow(source_directory=script_folder,\n",
    "                 script_params=script_params,\n",
    "                 compute_target=compute_target, \n",
    "                 pip_packages=['keras', 'matplotlib'],\n",
    "                 entry_script='keras_mnist.py', \n",
    "                 use_gpu=True)"
   ]
  },
  {
   "cell_type": "code",
   "execution_count": 17,
   "metadata": {},
   "outputs": [
    {
     "name": "stdout",
     "output_type": "stream",
     "text": [
      "$AZUREML_DATAREFERENCE_06d367a28eda4a6bb82fdc1567e2ce1f\n"
     ]
    }
   ],
   "source": [
    "print(ds.path('mnist').as_mount())"
   ]
  },
  {
   "cell_type": "code",
   "execution_count": 18,
   "metadata": {},
   "outputs": [],
   "source": [
    "run = exp.submit(est)"
   ]
  },
  {
   "cell_type": "code",
   "execution_count": 19,
   "metadata": {},
   "outputs": [
    {
     "data": {
      "application/vnd.jupyter.widget-view+json": {
       "model_id": "d21e92677a454c379fb3ca7c2754f011",
       "version_major": 2,
       "version_minor": 0
      },
      "text/plain": [
       "_UserRunWidget(widget_settings={'childWidgetDisplay': 'popup', 'send_telemetry': False, 'log_level': 'INFO', '…"
      ]
     },
     "metadata": {},
     "output_type": "display_data"
    }
   ],
   "source": [
    "from azureml.widgets import RunDetails\n",
    "RunDetails(run).show()"
   ]
  },
  {
   "cell_type": "code",
   "execution_count": 20,
   "metadata": {},
   "outputs": [
    {
     "name": "stdout",
     "output_type": "stream",
     "text": [
      "RunId: keras-mnist_1558400349_5e73c6d4\n",
      "\n",
      "Streaming azureml-logs/60_control_log.txt\n",
      "=========================================\n",
      "\n",
      "Streaming log file azureml-logs/60_control_log.txt\n",
      "\n",
      "Streaming azureml-logs/80_driver_log.txt\n",
      "========================================\n",
      "\n",
      "/azureml-envs/azureml_d096a8d7572b94fd7a3f28cd37726ace/lib/python3.6/site-packages/requests/__init__.py:91: RequestsDependencyWarning: urllib3 (1.25.2) or chardet (3.0.4) doesn't match a supported version!\n",
      "  RequestsDependencyWarning)\n",
      "Using TensorFlow backend.\n",
      "\n",
      "\n",
      "The experiment failed. Finalizing run...\n",
      "Logging experiment finalizing status in history service\n",
      "Cleaning up all outstanding Run operations, waiting 300.0 seconds\n",
      "1 items cleaning up...\n",
      "Cleanup took 0.2508108615875244 seconds\n",
      "Traceback (most recent call last):\n",
      "  File \"keras_mnist.py\", line 7, in <module>\n",
      "    import keras\n",
      "  File \"/azureml-envs/azureml_d096a8d7572b94fd7a3f28cd37726ace/lib/python3.6/site-packages/keras/__init__.py\", line 3, in <module>\n",
      "    from . import utils\n",
      "  File \"/azureml-envs/azureml_d096a8d7572b94fd7a3f28cd37726ace/lib/python3.6/site-packages/keras/utils/__init__.py\", line 6, in <module>\n",
      "    from . import conv_utils\n",
      "  File \"/azureml-envs/azureml_d096a8d7572b94fd7a3f28cd37726ace/lib/python3.6/site-packages/keras/utils/conv_utils.py\", line 9, in <module>\n",
      "    from .. import backend as K\n",
      "  File \"/azureml-envs/azureml_d096a8d7572b94fd7a3f28cd37726ace/lib/python3.6/site-packages/keras/backend/__init__.py\", line 89, in <module>\n",
      "    from .tensorflow_backend import *\n",
      "  File \"/azureml-envs/azureml_d096a8d7572b94fd7a3f28cd37726ace/lib/python3.6/site-packages/keras/backend/tensorflow_backend.py\", line 5, in <module>\n",
      "    import tensorflow as tf\n",
      "  File \"/azureml-envs/azureml_d096a8d7572b94fd7a3f28cd37726ace/lib/python3.6/site-packages/tensorflow/__init__.py\", line 24, in <module>\n",
      "    from tensorflow.python import pywrap_tensorflow  # pylint: disable=unused-import\n",
      "  File \"/azureml-envs/azureml_d096a8d7572b94fd7a3f28cd37726ace/lib/python3.6/site-packages/tensorflow/python/__init__.py\", line 49, in <module>\n",
      "    from tensorflow.python import pywrap_tensorflow\n",
      "  File \"/azureml-envs/azureml_d096a8d7572b94fd7a3f28cd37726ace/lib/python3.6/site-packages/tensorflow/python/pywrap_tensorflow.py\", line 74, in <module>\n",
      "    raise ImportError(msg)\n",
      "ImportError: Traceback (most recent call last):\n",
      "  File \"/azureml-envs/azureml_d096a8d7572b94fd7a3f28cd37726ace/lib/python3.6/site-packages/tensorflow/python/pywrap_tensorflow.py\", line 58, in <module>\n",
      "    from tensorflow.python.pywrap_tensorflow_internal import *\n",
      "  File \"/azureml-envs/azureml_d096a8d7572b94fd7a3f28cd37726ace/lib/python3.6/site-packages/tensorflow/python/pywrap_tensorflow_internal.py\", line 28, in <module>\n",
      "    _pywrap_tensorflow_internal = swig_import_helper()\n",
      "  File \"/azureml-envs/azureml_d096a8d7572b94fd7a3f28cd37726ace/lib/python3.6/site-packages/tensorflow/python/pywrap_tensorflow_internal.py\", line 24, in swig_import_helper\n",
      "    _mod = imp.load_module('_pywrap_tensorflow_internal', fp, pathname, description)\n",
      "  File \"/azureml-envs/azureml_d096a8d7572b94fd7a3f28cd37726ace/lib/python3.6/imp.py\", line 242, in load_module\n",
      "    return load_dynamic(name, filename, file)\n",
      "  File \"/azureml-envs/azureml_d096a8d7572b94fd7a3f28cd37726ace/lib/python3.6/imp.py\", line 342, in load_dynamic\n",
      "    return _load(spec)\n",
      "ImportError: libcuda.so.1: cannot open shared object file: No such file or directory\n",
      "\n",
      "\n",
      "Failed to load the native TensorFlow runtime.\n",
      "\n",
      "See https://www.tensorflow.org/install/errors\n",
      "\n",
      "for some common reasons and solutions.  Include the entire stack trace\n",
      "above this error message when asking for help.\n",
      "\n",
      "\n",
      "Execution Summary\n",
      "=================\n",
      "RunId: keras-mnist_1558400349_5e73c6d4\n"
     ]
    },
    {
     "ename": "ActivityFailedException",
     "evalue": "Activity Failed:\n{\n    \"error\": {\n        \"code\": \"UserError\",\n        \"message\": \"Traceback (most recent call last):\\n  File \\\"/azureml-envs/azureml_d096a8d7572b94fd7a3f28cd37726ace/lib/python3.6/site-packages/tensorflow/python/pywrap_tensorflow.py\\\", line 58, in <module>\\n    from tensorflow.python.pywrap_tensorflow_internal import *\\n  File \\\"/azureml-envs/azureml_d096a8d7572b94fd7a3f28cd37726ace/lib/python3.6/site-packages/tensorflow/python/pywrap_tensorflow_internal.py\\\", line 28, in <module>\\n    _pywrap_tensorflow_internal = swig_import_helper()\\n  File \\\"/azureml-envs/azureml_d096a8d7572b94fd7a3f28cd37726ace/lib/python3.6/site-packages/tensorflow/python/pywrap_tensorflow_internal.py\\\", line 24, in swig_import_helper\\n    _mod = imp.load_module('_pywrap_tensorflow_internal', fp, pathname, description)\\n  File \\\"/azureml-envs/azureml_d096a8d7572b94fd7a3f28cd37726ace/lib/python3.6/imp.py\\\", line 242, in load_module\\n    return load_dynamic(name, filename, file)\\n  File \\\"/azureml-envs/azureml_d096a8d7572b94fd7a3f28cd37726ace/lib/python3.6/imp.py\\\", line 342, in load_dynamic\\n    return _load(spec)\\nImportError: libcuda.so.1: cannot open shared object file: No such file or directory\\n\\n\\nFailed to load the native TensorFlow runtime.\\n\\nSee https://www.tensorflow.org/install/errors\\n\\nfor some common reasons and solutions.  Include the entire stack trace\\nabove this error message when asking for help.\",\n        \"details\": [],\n        \"debugInfo\": {\n            \"type\": \"ImportError\",\n            \"message\": \"Traceback (most recent call last):\\n  File \\\"/azureml-envs/azureml_d096a8d7572b94fd7a3f28cd37726ace/lib/python3.6/site-packages/tensorflow/python/pywrap_tensorflow.py\\\", line 58, in <module>\\n    from tensorflow.python.pywrap_tensorflow_internal import *\\n  File \\\"/azureml-envs/azureml_d096a8d7572b94fd7a3f28cd37726ace/lib/python3.6/site-packages/tensorflow/python/pywrap_tensorflow_internal.py\\\", line 28, in <module>\\n    _pywrap_tensorflow_internal = swig_import_helper()\\n  File \\\"/azureml-envs/azureml_d096a8d7572b94fd7a3f28cd37726ace/lib/python3.6/site-packages/tensorflow/python/pywrap_tensorflow_internal.py\\\", line 24, in swig_import_helper\\n    _mod = imp.load_module('_pywrap_tensorflow_internal', fp, pathname, description)\\n  File \\\"/azureml-envs/azureml_d096a8d7572b94fd7a3f28cd37726ace/lib/python3.6/imp.py\\\", line 242, in load_module\\n    return load_dynamic(name, filename, file)\\n  File \\\"/azureml-envs/azureml_d096a8d7572b94fd7a3f28cd37726ace/lib/python3.6/imp.py\\\", line 342, in load_dynamic\\n    return _load(spec)\\nImportError: libcuda.so.1: cannot open shared object file: No such file or directory\\n\\n\\nFailed to load the native TensorFlow runtime.\\n\\nSee https://www.tensorflow.org/install/errors\\n\\nfor some common reasons and solutions.  Include the entire stack trace\\nabove this error message when asking for help.\",\n            \"stackTrace\": \"  File \\\"azureml-setup/context_manager_injector.py\\\", line 95, in execute_with_context\\n    runpy.run_path(sys.argv[0], globals(), run_name=\\\"__main__\\\")\\n  File \\\"/azureml-envs/azureml_d096a8d7572b94fd7a3f28cd37726ace/lib/python3.6/runpy.py\\\", line 263, in run_path\\n    pkg_name=pkg_name, script_name=fname)\\n  File \\\"/azureml-envs/azureml_d096a8d7572b94fd7a3f28cd37726ace/lib/python3.6/runpy.py\\\", line 96, in _run_module_code\\n    mod_name, mod_spec, pkg_name, script_name)\\n  File \\\"/azureml-envs/azureml_d096a8d7572b94fd7a3f28cd37726ace/lib/python3.6/runpy.py\\\", line 85, in _run_code\\n    exec(code, run_globals)\\n  File \\\"keras_mnist.py\\\", line 7, in <module>\\n    import keras\\n  File \\\"/azureml-envs/azureml_d096a8d7572b94fd7a3f28cd37726ace/lib/python3.6/site-packages/keras/__init__.py\\\", line 3, in <module>\\n    from . import utils\\n  File \\\"/azureml-envs/azureml_d096a8d7572b94fd7a3f28cd37726ace/lib/python3.6/site-packages/keras/utils/__init__.py\\\", line 6, in <module>\\n    from . import conv_utils\\n  File \\\"/azureml-envs/azureml_d096a8d7572b94fd7a3f28cd37726ace/lib/python3.6/site-packages/keras/utils/conv_utils.py\\\", line 9, in <module>\\n    from .. import backend as K\\n  File \\\"/azureml-envs/azureml_d096a8d7572b94fd7a3f28cd37726ace/lib/python3.6/site-packages/keras/backend/__init__.py\\\", line 89, in <module>\\n    from .tensorflow_backend import *\\n  File \\\"/azureml-envs/azureml_d096a8d7572b94fd7a3f28cd37726ace/lib/python3.6/site-packages/keras/backend/tensorflow_backend.py\\\", line 5, in <module>\\n    import tensorflow as tf\\n  File \\\"/azureml-envs/azureml_d096a8d7572b94fd7a3f28cd37726ace/lib/python3.6/site-packages/tensorflow/__init__.py\\\", line 24, in <module>\\n    from tensorflow.python import pywrap_tensorflow  # pylint: disable=unused-import\\n  File \\\"/azureml-envs/azureml_d096a8d7572b94fd7a3f28cd37726ace/lib/python3.6/site-packages/tensorflow/python/__init__.py\\\", line 49, in <module>\\n    from tensorflow.python import pywrap_tensorflow\\n  File \\\"/azureml-envs/azureml_d096a8d7572b94fd7a3f28cd37726ace/lib/python3.6/site-packages/tensorflow/python/pywrap_tensorflow.py\\\", line 74, in <module>\\n    raise ImportError(msg)\\n\"\n        }\n    }\n}",
     "output_type": "error",
     "traceback": [
      "\u001b[1;31m---------------------------------------------------------------------------\u001b[0m",
      "\u001b[1;31mActivityFailedException\u001b[0m                   Traceback (most recent call last)",
      "\u001b[1;32m<ipython-input-20-c525ff7b8c5b>\u001b[0m in \u001b[0;36m<module>\u001b[1;34m\u001b[0m\n\u001b[1;32m----> 1\u001b[1;33m \u001b[0mrun\u001b[0m\u001b[1;33m.\u001b[0m\u001b[0mwait_for_completion\u001b[0m\u001b[1;33m(\u001b[0m\u001b[0mshow_output\u001b[0m\u001b[1;33m=\u001b[0m\u001b[1;32mTrue\u001b[0m\u001b[1;33m)\u001b[0m\u001b[1;33m\u001b[0m\u001b[1;33m\u001b[0m\u001b[0m\n\u001b[0m",
      "\u001b[1;32m~\\AppData\\Local\\Continuum\\anaconda3\\envs\\tf\\lib\\site-packages\\azureml\\core\\run.py\u001b[0m in \u001b[0;36mwait_for_completion\u001b[1;34m(self, show_output, wait_post_processing, raise_on_error)\u001b[0m\n\u001b[0;32m    474\u001b[0m                     \u001b[0mfile_handle\u001b[0m\u001b[1;33m=\u001b[0m\u001b[0msys\u001b[0m\u001b[1;33m.\u001b[0m\u001b[0mstdout\u001b[0m\u001b[1;33m,\u001b[0m\u001b[1;33m\u001b[0m\u001b[1;33m\u001b[0m\u001b[0m\n\u001b[0;32m    475\u001b[0m                     \u001b[0mwait_post_processing\u001b[0m\u001b[1;33m=\u001b[0m\u001b[0mwait_post_processing\u001b[0m\u001b[1;33m,\u001b[0m\u001b[1;33m\u001b[0m\u001b[1;33m\u001b[0m\u001b[0m\n\u001b[1;32m--> 476\u001b[1;33m                     raise_on_error=raise_on_error)\n\u001b[0m\u001b[0;32m    477\u001b[0m                 \u001b[1;32mreturn\u001b[0m \u001b[0mself\u001b[0m\u001b[1;33m.\u001b[0m\u001b[0mget_details\u001b[0m\u001b[1;33m(\u001b[0m\u001b[1;33m)\u001b[0m\u001b[1;33m\u001b[0m\u001b[1;33m\u001b[0m\u001b[0m\n\u001b[0;32m    478\u001b[0m             \u001b[1;32mexcept\u001b[0m \u001b[0mKeyboardInterrupt\u001b[0m\u001b[1;33m:\u001b[0m\u001b[1;33m\u001b[0m\u001b[1;33m\u001b[0m\u001b[0m\n",
      "\u001b[1;32m~\\AppData\\Local\\Continuum\\anaconda3\\envs\\tf\\lib\\site-packages\\azureml\\core\\run.py\u001b[0m in \u001b[0;36m_stream_run_output\u001b[1;34m(self, file_handle, wait_post_processing, raise_on_error)\u001b[0m\n\u001b[0;32m    701\u001b[0m             \u001b[0mfile_handle\u001b[0m\u001b[1;33m.\u001b[0m\u001b[0mwrite\u001b[0m\u001b[1;33m(\u001b[0m\u001b[1;34m\"\\n\"\u001b[0m\u001b[1;33m)\u001b[0m\u001b[1;33m\u001b[0m\u001b[1;33m\u001b[0m\u001b[0m\n\u001b[0;32m    702\u001b[0m         \u001b[1;32mif\u001b[0m \u001b[0merror\u001b[0m \u001b[1;32mand\u001b[0m \u001b[0mraise_on_error\u001b[0m\u001b[1;33m:\u001b[0m\u001b[1;33m\u001b[0m\u001b[1;33m\u001b[0m\u001b[0m\n\u001b[1;32m--> 703\u001b[1;33m             \u001b[1;32mraise\u001b[0m \u001b[0mActivityFailedException\u001b[0m\u001b[1;33m(\u001b[0m\u001b[0merror_details\u001b[0m\u001b[1;33m=\u001b[0m\u001b[0mjson\u001b[0m\u001b[1;33m.\u001b[0m\u001b[0mdumps\u001b[0m\u001b[1;33m(\u001b[0m\u001b[0merror\u001b[0m\u001b[1;33m,\u001b[0m \u001b[0mindent\u001b[0m\u001b[1;33m=\u001b[0m\u001b[1;36m4\u001b[0m\u001b[1;33m)\u001b[0m\u001b[1;33m)\u001b[0m\u001b[1;33m\u001b[0m\u001b[1;33m\u001b[0m\u001b[0m\n\u001b[0m\u001b[0;32m    704\u001b[0m \u001b[1;33m\u001b[0m\u001b[0m\n\u001b[0;32m    705\u001b[0m         \u001b[0mfile_handle\u001b[0m\u001b[1;33m.\u001b[0m\u001b[0mwrite\u001b[0m\u001b[1;33m(\u001b[0m\u001b[1;34m\"\\n\"\u001b[0m\u001b[1;33m)\u001b[0m\u001b[1;33m\u001b[0m\u001b[1;33m\u001b[0m\u001b[0m\n",
      "\u001b[1;31mActivityFailedException\u001b[0m: Activity Failed:\n{\n    \"error\": {\n        \"code\": \"UserError\",\n        \"message\": \"Traceback (most recent call last):\\n  File \\\"/azureml-envs/azureml_d096a8d7572b94fd7a3f28cd37726ace/lib/python3.6/site-packages/tensorflow/python/pywrap_tensorflow.py\\\", line 58, in <module>\\n    from tensorflow.python.pywrap_tensorflow_internal import *\\n  File \\\"/azureml-envs/azureml_d096a8d7572b94fd7a3f28cd37726ace/lib/python3.6/site-packages/tensorflow/python/pywrap_tensorflow_internal.py\\\", line 28, in <module>\\n    _pywrap_tensorflow_internal = swig_import_helper()\\n  File \\\"/azureml-envs/azureml_d096a8d7572b94fd7a3f28cd37726ace/lib/python3.6/site-packages/tensorflow/python/pywrap_tensorflow_internal.py\\\", line 24, in swig_import_helper\\n    _mod = imp.load_module('_pywrap_tensorflow_internal', fp, pathname, description)\\n  File \\\"/azureml-envs/azureml_d096a8d7572b94fd7a3f28cd37726ace/lib/python3.6/imp.py\\\", line 242, in load_module\\n    return load_dynamic(name, filename, file)\\n  File \\\"/azureml-envs/azureml_d096a8d7572b94fd7a3f28cd37726ace/lib/python3.6/imp.py\\\", line 342, in load_dynamic\\n    return _load(spec)\\nImportError: libcuda.so.1: cannot open shared object file: No such file or directory\\n\\n\\nFailed to load the native TensorFlow runtime.\\n\\nSee https://www.tensorflow.org/install/errors\\n\\nfor some common reasons and solutions.  Include the entire stack trace\\nabove this error message when asking for help.\",\n        \"details\": [],\n        \"debugInfo\": {\n            \"type\": \"ImportError\",\n            \"message\": \"Traceback (most recent call last):\\n  File \\\"/azureml-envs/azureml_d096a8d7572b94fd7a3f28cd37726ace/lib/python3.6/site-packages/tensorflow/python/pywrap_tensorflow.py\\\", line 58, in <module>\\n    from tensorflow.python.pywrap_tensorflow_internal import *\\n  File \\\"/azureml-envs/azureml_d096a8d7572b94fd7a3f28cd37726ace/lib/python3.6/site-packages/tensorflow/python/pywrap_tensorflow_internal.py\\\", line 28, in <module>\\n    _pywrap_tensorflow_internal = swig_import_helper()\\n  File \\\"/azureml-envs/azureml_d096a8d7572b94fd7a3f28cd37726ace/lib/python3.6/site-packages/tensorflow/python/pywrap_tensorflow_internal.py\\\", line 24, in swig_import_helper\\n    _mod = imp.load_module('_pywrap_tensorflow_internal', fp, pathname, description)\\n  File \\\"/azureml-envs/azureml_d096a8d7572b94fd7a3f28cd37726ace/lib/python3.6/imp.py\\\", line 242, in load_module\\n    return load_dynamic(name, filename, file)\\n  File \\\"/azureml-envs/azureml_d096a8d7572b94fd7a3f28cd37726ace/lib/python3.6/imp.py\\\", line 342, in load_dynamic\\n    return _load(spec)\\nImportError: libcuda.so.1: cannot open shared object file: No such file or directory\\n\\n\\nFailed to load the native TensorFlow runtime.\\n\\nSee https://www.tensorflow.org/install/errors\\n\\nfor some common reasons and solutions.  Include the entire stack trace\\nabove this error message when asking for help.\",\n            \"stackTrace\": \"  File \\\"azureml-setup/context_manager_injector.py\\\", line 95, in execute_with_context\\n    runpy.run_path(sys.argv[0], globals(), run_name=\\\"__main__\\\")\\n  File \\\"/azureml-envs/azureml_d096a8d7572b94fd7a3f28cd37726ace/lib/python3.6/runpy.py\\\", line 263, in run_path\\n    pkg_name=pkg_name, script_name=fname)\\n  File \\\"/azureml-envs/azureml_d096a8d7572b94fd7a3f28cd37726ace/lib/python3.6/runpy.py\\\", line 96, in _run_module_code\\n    mod_name, mod_spec, pkg_name, script_name)\\n  File \\\"/azureml-envs/azureml_d096a8d7572b94fd7a3f28cd37726ace/lib/python3.6/runpy.py\\\", line 85, in _run_code\\n    exec(code, run_globals)\\n  File \\\"keras_mnist.py\\\", line 7, in <module>\\n    import keras\\n  File \\\"/azureml-envs/azureml_d096a8d7572b94fd7a3f28cd37726ace/lib/python3.6/site-packages/keras/__init__.py\\\", line 3, in <module>\\n    from . import utils\\n  File \\\"/azureml-envs/azureml_d096a8d7572b94fd7a3f28cd37726ace/lib/python3.6/site-packages/keras/utils/__init__.py\\\", line 6, in <module>\\n    from . import conv_utils\\n  File \\\"/azureml-envs/azureml_d096a8d7572b94fd7a3f28cd37726ace/lib/python3.6/site-packages/keras/utils/conv_utils.py\\\", line 9, in <module>\\n    from .. import backend as K\\n  File \\\"/azureml-envs/azureml_d096a8d7572b94fd7a3f28cd37726ace/lib/python3.6/site-packages/keras/backend/__init__.py\\\", line 89, in <module>\\n    from .tensorflow_backend import *\\n  File \\\"/azureml-envs/azureml_d096a8d7572b94fd7a3f28cd37726ace/lib/python3.6/site-packages/keras/backend/tensorflow_backend.py\\\", line 5, in <module>\\n    import tensorflow as tf\\n  File \\\"/azureml-envs/azureml_d096a8d7572b94fd7a3f28cd37726ace/lib/python3.6/site-packages/tensorflow/__init__.py\\\", line 24, in <module>\\n    from tensorflow.python import pywrap_tensorflow  # pylint: disable=unused-import\\n  File \\\"/azureml-envs/azureml_d096a8d7572b94fd7a3f28cd37726ace/lib/python3.6/site-packages/tensorflow/python/__init__.py\\\", line 49, in <module>\\n    from tensorflow.python import pywrap_tensorflow\\n  File \\\"/azureml-envs/azureml_d096a8d7572b94fd7a3f28cd37726ace/lib/python3.6/site-packages/tensorflow/python/pywrap_tensorflow.py\\\", line 74, in <module>\\n    raise ImportError(msg)\\n\"\n        }\n    }\n}"
     ]
    }
   ],
   "source": [
    "run.wait_for_completion(show_output=True)"
   ]
  },
  {
   "cell_type": "code",
   "execution_count": null,
   "metadata": {},
   "outputs": [],
   "source": []
  }
 ],
 "metadata": {
  "kernelspec": {
   "display_name": "Python 3",
   "language": "python",
   "name": "python3"
  },
  "language_info": {
   "codemirror_mode": {
    "name": "ipython",
    "version": 3
   },
   "file_extension": ".py",
   "mimetype": "text/x-python",
   "name": "python",
   "nbconvert_exporter": "python",
   "pygments_lexer": "ipython3",
   "version": "3.6.8"
  }
 },
 "nbformat": 4,
 "nbformat_minor": 2
}
